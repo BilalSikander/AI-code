{
 "cells": [
  {
   "cell_type": "code",
   "execution_count": 1,
   "metadata": {},
   "outputs": [
    {
     "name": "stdout",
     "output_type": "stream",
     "text": [
      "Requirement already satisfied: imutils in c:\\users\\glau\\.conda\\envs\\tensorflow\\lib\\site-packages (0.5.3)\n",
      "Requirement already satisfied: image-classifiers==1.0.0b1 in c:\\users\\glau\\.conda\\envs\\tensorflow\\lib\\site-packages (1.0.0b1)\n"
     ]
    }
   ],
   "source": [
    "!pip install imutils\n",
    "!pip install image-classifiers==1.0.0b1"
   ]
  },
  {
   "cell_type": "code",
   "execution_count": 2,
   "metadata": {},
   "outputs": [],
   "source": [
    "import pandas as pd\n",
    "import numpy as np\n",
    "import random\n",
    "import shutil\n",
    "import cv2\n",
    "import os"
   ]
  },
  {
   "cell_type": "code",
   "execution_count": 7,
   "metadata": {},
   "outputs": [],
   "source": [
    "dataset_path = r'D:\\DP\\X-ray dataset\\images_001'\n",
    "log_path = './logs'"
   ]
  },
  {
   "cell_type": "code",
   "execution_count": 8,
   "metadata": {},
   "outputs": [],
   "source": [
    "#first creaste a folder in the same directory where image to be stored\n",
    "covid_dataset_path = r'D:\\DP\\X-ray dataset\\images_001'"
   ]
  },
  {
   "cell_type": "code",
   "execution_count": 9,
   "metadata": {},
   "outputs": [],
   "source": [
    "# construct the path to the metadata CSV file and load it\n",
    "csvPath = os.path.sep.join([covid_dataset_path, \"Data_Entry_2017.csv\"])\n",
    "df = pd.read_csv(csvPath)\n",
    "\n",
    "# loop over the rows of the COVID-19 data frame\n",
    "for (i, row) in df.iterrows():\n",
    "    # if (1) the current case is not COVID-19 or (2) this is not\n",
    "    # a 'PA' view, then ignore the row\n",
    "    if row[\"Finding Labels\"] != \"Pneumonia\": \n",
    "        continue\n",
    "\n",
    "    # build the path to the input image file this is decide by looking csv file\n",
    "    imagePath = os.path.sep.join([covid_dataset_path, \"images_001\", row[\"Image Index\"]])\n",
    "\n",
    "    # if the input image file does not exist (there are some errors in\n",
    "    # the COVID-19 metadeta file), ignore the row\n",
    "    if not os.path.exists(imagePath):\n",
    "        continue\n",
    "\n",
    "    # extract the filename from the image path and then construct the\n",
    "    # path to the copied image file\n",
    "    filename = row[\"Image Index\"].split(os.path.sep)[-1]\n",
    "    outputPath = os.path.sep.join([f\"{dataset_path}/Pneumonia\", filename])\n",
    "\n",
    "    # copy the image\n",
    "    shutil.copy2(imagePath, outputPath)"
   ]
  },
  {
   "cell_type": "code",
   "execution_count": null,
   "metadata": {},
   "outputs": [],
   "source": []
  }
 ],
 "metadata": {
  "kernelspec": {
   "display_name": "Python 3",
   "language": "python",
   "name": "python3"
  },
  "language_info": {
   "codemirror_mode": {
    "name": "ipython",
    "version": 3
   },
   "file_extension": ".py",
   "mimetype": "text/x-python",
   "name": "python",
   "nbconvert_exporter": "python",
   "pygments_lexer": "ipython3",
   "version": "3.7.6"
  }
 },
 "nbformat": 4,
 "nbformat_minor": 4
}
