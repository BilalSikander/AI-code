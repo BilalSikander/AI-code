{
 "cells": [
  {
   "cell_type": "code",
   "execution_count": 1,
   "metadata": {},
   "outputs": [],
   "source": [
    "path = r\"C:\\Users\\Glau\\Desktop\\sample\\dd\"\n",
    "output = r\"C:\\Users\\Glau\\Desktop\\sample\\ddtest\""
   ]
  },
  {
   "cell_type": "code",
   "execution_count": 2,
   "metadata": {},
   "outputs": [],
   "source": [
    "import os\n",
    "files = os.listdir(path)\n",
    "c=1001\n",
    "#print(files)\n",
    "for f in files:\n",
    "    tem = str(f).split(\".\")\n",
    "    #os.rename(str(path))\n",
    "    name = str(c)+\".\"+str(tem[-1])\n",
    "    dist = output+\"\\\\\"+name\n",
    "    os.rename(str(path+\"\\\\\"+f),dist)\n",
    "    #print(output)\n",
    "    #print(tem)\n",
    "    c+=1"
   ]
  },
  {
   "cell_type": "code",
   "execution_count": null,
   "metadata": {},
   "outputs": [],
   "source": [
    "print()"
   ]
  }
 ],
 "metadata": {
  "kernelspec": {
   "display_name": "Python 3",
   "language": "python",
   "name": "python3"
  },
  "language_info": {
   "codemirror_mode": {
    "name": "ipython",
    "version": 3
   },
   "file_extension": ".py",
   "mimetype": "text/x-python",
   "name": "python",
   "nbconvert_exporter": "python",
   "pygments_lexer": "ipython3",
   "version": "3.7.6"
  }
 },
 "nbformat": 4,
 "nbformat_minor": 4
}
