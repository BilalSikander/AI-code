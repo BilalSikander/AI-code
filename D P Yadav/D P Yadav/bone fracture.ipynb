{
 "cells": [
  {
   "cell_type": "code",
   "execution_count": null,
   "metadata": {},
   "outputs": [],
   "source": [
    "import os \n",
    "\n",
    "from keras.preprocessing.image import ImageDataGenerator\n",
    "from keras.preprocessing import image\n",
    "from keras.models import Sequential\n",
    "from keras.layers import Conv2D, MaxPooling2D, AveragePooling2D\n",
    "from keras.layers import Activation, Dropout, Flatten, Dense\n",
    "from keras.layers.normalization import BatchNormalization\n",
    "from keras.callbacks import ModelCheckpoint\n",
    "from keras import backend as K\n",
    "import scipy\n",
    "import matplotlib.pyplot as plt\n",
    "#from vis.utils import utils\n",
    "import numpy as np\n",
    "from scipy import misc,ndimage\n",
    "import cv2\n"
   ]
  },
  {
   "cell_type": "code",
   "execution_count": null,
   "metadata": {},
   "outputs": [],
   "source": [
    "batch_size=1\n",
    "gen = ImageDataGenerator(\n",
    "                                        \n",
    "                                         \n",
    "                                         shear_range = .2 )\n",
    "        \n",
    "\n",
    "# this is the augmentation configuration we will use for testing:\n",
    "# only rescaling\n",
    "#test_datagen = ImageDataGenerator(rescale=1./255)\n",
    "\n",
    "# this is a generator that will read pictures found in\n",
    "# subfolers of 'data/train', and indefinitely generate\n",
    "# batches of augmented image data\n",
    "img_path='C:\\\\Users\\\\Glau\\\\Desktop\\\\DP\\\\fracture\\\\1.jpg'\n",
    "img=np.expand_dims(ndimage.imread(img_path),0)\n",
    "aug_itr=gen.flow(img)\n",
    "aug_image=[next(aug_itr)[0].astype(np.uint8) for i in range(4)]\n",
    "plt.imshow(aug_image[0])\n",
    "num=1\n",
    "path='C:\\\\Users\\\\Glau\\\\Desktop\\\\DP\\\\fracture\\\\Aug\\\\'\n",
    "\n",
    "for i in aug_image:\n",
    "    cv2.imwrite(os.path.join(path)+'BAS_'+str(num)+'.jpg',i)\n",
    "    num=num+1\n"
   ]
  },
  {
   "cell_type": "code",
   "execution_count": null,
   "metadata": {},
   "outputs": [],
   "source": []
  },
  {
   "cell_type": "code",
   "execution_count": null,
   "metadata": {},
   "outputs": [],
   "source": []
  }
 ],
 "metadata": {
  "kernelspec": {
   "display_name": "Python 3",
   "language": "python",
   "name": "python3"
  },
  "language_info": {
   "codemirror_mode": {
    "name": "ipython",
    "version": 3
   },
   "file_extension": ".py",
   "mimetype": "text/x-python",
   "name": "python",
   "nbconvert_exporter": "python",
   "pygments_lexer": "ipython3",
   "version": "3.7.6"
  }
 },
 "nbformat": 4,
 "nbformat_minor": 2
}
