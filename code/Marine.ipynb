{
 "cells": [
  {
   "cell_type": "code",
   "execution_count": 6,
   "metadata": {},
   "outputs": [],
   "source": [
    "import tensorflow as tf\n",
    "from tensorflow import keras\n",
    "%matplotlib inline\n",
    "import numpy as np\n",
    "import pickle\n",
    "import cv2\n",
    "from os import listdir\n",
    "from sklearn.preprocessing import LabelBinarizer\n",
    "import matplotlib.pyplot as plt\n",
    "from tensorflow.keras.preprocessing.image import img_to_array\n",
    "from tensorflow.keras.models import Sequential\n",
    "from tensorflow.keras.layers import Dense, Conv2D, Flatten, Dropout, MaxPooling2D, BatchNormalization\n",
    "from tensorflow.keras import backend as K\n",
    "from tensorflow.keras.optimizers import Adam\n",
    "from tensorflow.keras.models import load_model"
   ]
  },
  {
   "cell_type": "code",
   "execution_count": 7,
   "metadata": {},
   "outputs": [],
   "source": [
    "import os\n",
    "import numpy as np\n",
    "import pandas as pd\n",
    "import cv2\n",
    "import matplotlib.pyplot as plt\n",
    "%matplotlib inline\n",
    "\n",
    "import warnings\n",
    "warnings.filterwarnings('ignore')\n",
    "\n",
    "from sklearn.model_selection import train_test_split\n",
    "import itertools\n",
    "\n",
    "from keras.preprocessing import image\n",
    "from keras.preprocessing.image import ImageDataGenerator\n",
    "from keras.callbacks import ReduceLROnPlateau\n",
    "from keras.models import Sequential, Model\n",
    "from keras.layers import Dense, Activation, Flatten, Dropout, concatenate, Input, Conv2D, MaxPooling2D\n",
    "from keras.optimizers import Adam, Adadelta\n",
    "from keras.layers.advanced_activations import LeakyReLU\n",
    "from keras.utils.np_utils import to_categorical\n",
    "from keras import layers,models"
   ]
  },
  {
   "cell_type": "code",
   "execution_count": 8,
   "metadata": {},
   "outputs": [],
   "source": [
    "import os\n",
    "import cv2\n",
    "import numpy as np\n",
    "from keras import layers\n",
    "from keras.layers import Input,Add,Dense,Activation,ZeroPadding2D,BatchNormalization,Flatten,Conv2D,AveragePooling2D,MaxPooling2D\n",
    "from keras.models import Model,load_model\n",
    "from keras.initializers import glorot_uniform\n",
    "from keras.utils import plot_model\n",
    "from IPython.display import SVG\n",
    "from keras.utils.vis_utils import model_to_dot\n",
    "import tensorflow as tf\n",
    "from tensorflow.keras import backend as k"
   ]
  },
  {
   "cell_type": "code",
   "execution_count": 9,
   "metadata": {},
   "outputs": [],
   "source": [
    "class MyCustomCallback(tf.keras.callbacks.Callback):\n",
    "    def on_epoch_end(self, epoch, logs={}): \n",
    "        if(logs.get('acc') >= 0.96):   \n",
    "            print(\"Reached 95% accuracy so cancelling training!\")\n",
    "            self.model.stop_training = True"
   ]
  },
  {
   "cell_type": "code",
   "execution_count": 10,
   "metadata": {},
   "outputs": [],
   "source": [
    "epochs =50\n",
    "INIT_LR = 1e-3\n",
    "batch_size = 1000\n",
    "default_image_size = tuple((32, 32))\n",
    "#image_size = 0\n",
    "width=32\n",
    "height=32\n",
    "depth=3\n",
    "train_dir=r\"C:\\Users\\Glau\\Desktop\\marine\\Augmentation\\Train\"\n",
    "valid_dir=r\"C:\\Users\\Glau\\Desktop\\marine\\Augmentation\\Test\"\n",
    "train_folder=listdir(train_dir)\n",
    "valid_folder=listdir(valid_dir)"
   ]
  },
  {
   "cell_type": "code",
   "execution_count": 11,
   "metadata": {},
   "outputs": [],
   "source": [
    "def convert_image_to_array(image_dir):\n",
    "    try:\n",
    "        image = cv2.imread(image_dir)\n",
    "        if image is not None :\n",
    "            image = cv2.resize(image, default_image_size)   \n",
    "            return img_to_array(image)\n",
    "        else :\n",
    "            return np.array([])\n",
    "    except Exception as e:\n",
    "        print(f\"Error : {e}\")\n",
    "        return None"
   ]
  },
  {
   "cell_type": "code",
   "execution_count": 12,
   "metadata": {},
   "outputs": [],
   "source": [
    "callbacks = MyCustomCallback()"
   ]
  },
  {
   "cell_type": "code",
   "execution_count": 13,
   "metadata": {},
   "outputs": [
    {
     "name": "stdout",
     "output_type": "stream",
     "text": [
      "processing Amphidinium ...\n",
      "processing Chatonella ...\n",
      "processing Cochlodinium ...\n",
      "processing Gymnodinium catenatum ...\n",
      "processing Karenia ...\n",
      "processing Lyngbya ...\n",
      "processing Ostreopsis ...\n",
      "processing Prymnesium parvum ...\n",
      "processing Pseudo-nitzschia ...\n",
      "processing Tolypothrix conglutinata ...\n",
      "[INFO] Image loading completed\n"
     ]
    }
   ],
   "source": [
    "train_image_list, train_image_label= [], []\n",
    "for disease_folder in train_folder:\n",
    "    print(f\"processing {disease_folder} ...\")\n",
    "    disease_img_folder= listdir(f\"{train_dir}/{disease_folder}\")\n",
    "    #print(disease_img_folder)\n",
    "    for disease_img in disease_img_folder:\n",
    "    #for disease_img in disease_img_folder[: : 2]:    \n",
    "        image_directory = f\"{train_dir}/{disease_folder}/{disease_img}\"\n",
    "        if image_directory.endswith(\".jpg\") == True or image_directory.endswith(\".TIFF\") == True:\n",
    "            train_image_list.append(convert_image_to_array(image_directory))\n",
    "            train_image_label.append(disease_folder)\n",
    "print(\"[INFO] Image loading completed\")"
   ]
  },
  {
   "cell_type": "code",
   "execution_count": 14,
   "metadata": {},
   "outputs": [
    {
     "name": "stdout",
     "output_type": "stream",
     "text": [
      "80000\n"
     ]
    }
   ],
   "source": [
    "print(len(train_image_label))"
   ]
  },
  {
   "cell_type": "code",
   "execution_count": 15,
   "metadata": {},
   "outputs": [
    {
     "name": "stdout",
     "output_type": "stream",
     "text": [
      "processing Amphidinium ...\n",
      "processing Chatonella ...\n",
      "processing Cochlodinium ...\n",
      "processing Gymnodinium catenatum ...\n",
      "processing Karenia ...\n",
      "processing Lyngbya ...\n",
      "processing Ostreopsis ...\n",
      "processing Prymnesium parvum ...\n",
      "processing Pseudo-nitzschia ...\n",
      "processing Tolypothrix conglutinata ...\n",
      "[INFO] Image loading completed\n"
     ]
    }
   ],
   "source": [
    "valid_image_list, valid_image_label= [], []\n",
    "for disease_folder in valid_folder:\n",
    "    print(f\"processing {disease_folder} ...\")\n",
    "    disease_img_folder= listdir(f\"{valid_dir}/{disease_folder}\")\n",
    "    for disease_img in disease_img_folder:\n",
    "    #for disease_img in disease_img_folder[: : 2]: \n",
    "        image_directory = f\"{valid_dir}/{disease_folder}/{disease_img}\"\n",
    "        if image_directory.endswith(\".jpg\") == True or image_directory.endswith(\".TIFF\") == True:\n",
    "            valid_image_list.append(convert_image_to_array(image_directory))\n",
    "            valid_image_label.append(disease_folder)\n",
    "print(\"[INFO] Image loading completed\")"
   ]
  },
  {
   "cell_type": "code",
   "execution_count": 16,
   "metadata": {},
   "outputs": [
    {
     "name": "stdout",
     "output_type": "stream",
     "text": [
      "20000\n"
     ]
    }
   ],
   "source": [
    "print(len(valid_image_label))"
   ]
  },
  {
   "cell_type": "code",
   "execution_count": 17,
   "metadata": {},
   "outputs": [],
   "source": [
    "from sklearn.preprocessing import LabelBinarizer\n",
    "label_binarizer = LabelBinarizer()\n",
    "bin_train_image_labels = label_binarizer.fit_transform(train_image_label)\n",
    "bin_valid_image_labels = label_binarizer.fit_transform(valid_image_label)\n",
    "pickle.dump(label_binarizer,open('Label_Instance_marine10.pkl', 'wb'))\n",
    "n_classes = len(label_binarizer.classes_)"
   ]
  },
  {
   "cell_type": "code",
   "execution_count": 18,
   "metadata": {},
   "outputs": [
    {
     "name": "stdout",
     "output_type": "stream",
     "text": [
      "10\n"
     ]
    }
   ],
   "source": [
    "print(n_classes)"
   ]
  },
  {
   "cell_type": "code",
   "execution_count": 19,
   "metadata": {},
   "outputs": [],
   "source": [
    "np_train_image_list = np.array(train_image_list, dtype=np.float32) / 255.0\n",
    "np_valid_image_list = np.array(valid_image_list, dtype=np.float32) / 255.0"
   ]
  },
  {
   "cell_type": "code",
   "execution_count": 20,
   "metadata": {},
   "outputs": [],
   "source": [
    "def identity_block(X,f,filters,stage,block):\n",
    "    #defining name basis\n",
    "    conv_name_base='res'+str(stage)+block+'_branch'\n",
    "    bn_name_base='bn'+str(stage)+block+'_branch'\n",
    "    #Retrieve filters\n",
    "    F1,F2,F3=filters\n",
    "    #save the input value. we will need this later to add back to main path\n",
    "    X_shortcut=X\n",
    "    #First component of main path\n",
    "    X=Conv2D(filters=F1,kernel_size=(1,1),strides=(1,1),padding='valid',name=conv_name_base+'2a',kernel_initializer=glorot_uniform(seed=0))(X)\n",
    "    X=BatchNormalization(axis=3,name=bn_name_base+'2a')(X)\n",
    "    X=Activation('relu')(X)\n",
    "    \n",
    "    #second component of main path\n",
    "    #X=Conv2D(filters=F2,kernel_size=(f,f),strides=(1,1),padding='same',name=conv_name_base+'2b',kernel_initializer=glorot_uniform(seed=0))(X)\n",
    "    #X=BatchNormalization(axis=3,name=bn_name_base+'2b')(X)\n",
    "    #X=Activation('relu')(X)\n",
    "    #third component of main path\n",
    "    X=Conv2D(filters=F3,kernel_size=(1,1),strides=(1,1),padding='valid',name=conv_name_base+'2c',kernel_initializer=glorot_uniform(seed=0))(X)\n",
    "    X=BatchNormalization(axis=3,name=bn_name_base+'2c')(X)\n",
    "    \n",
    "    # Final step : Add shortcut value to main path and pass it through RELU activation\n",
    "    X=Add()([X,X_shortcut])\n",
    "    X=Activation('relu')(X)\n",
    "    return X\n",
    "    "
   ]
  },
  {
   "cell_type": "code",
   "execution_count": 21,
   "metadata": {},
   "outputs": [],
   "source": [
    "def convolutional_block(X,f,filters,stage,block,s=2):\n",
    "    #defining name basis\n",
    "    conv_name_base='res'+str(stage)+block+'_branch'\n",
    "    bn_name_base='bn'+str(stage)+block+'_branch'\n",
    "    #Retrieve filters\n",
    "    F1,F2,F3=filters\n",
    "    #save the input value. we will need this later to add back to main path\n",
    "    X_shortcut=X\n",
    "    #First component of main path\n",
    "    X=Conv2D(filters=F1,kernel_size= (1,1), strides=(s,s),name=conv_name_base +'2a',kernel_initializer=glorot_uniform(seed=0))(X)\n",
    "    X=BatchNormalization(axis=3,name=bn_name_base+'2a')(X)\n",
    "    X=Activation('relu')(X)\n",
    "    \n",
    "    #second component of main path\n",
    "   # X=Conv2D(filters=F2,kernel_size=(f,f),strides=(1,1),padding='same',name=conv_name_base +'2b',kernel_initializer=glorot_uniform(seed=0))(X)\n",
    "    #X=BatchNormalization(axis=3,name=bn_name_base+'2b')(X)\n",
    "    #X=Activation('relu')(X)\n",
    "    #third component of main path\n",
    "    X=Conv2D(filters=F3,kernel_size=(1,1),strides=(1,1),padding='valid',name=conv_name_base+'2c',kernel_initializer=glorot_uniform(seed=0))(X)\n",
    "    X=BatchNormalization(axis=3,name=bn_name_base+'2c')(X)\n",
    "    \n",
    "    #Shortcut path\n",
    "    X_shortcut=Conv2D(F3,kernel_size=(1,1),strides=(1,1),name=conv_name_base+'1',kernel_initializer=glorot_uniform(seed=0))(X)\n",
    "    X_shortcut=BatchNormalization(axis=3,name=bn_name_base+'1')(X_shortcut)\n",
    "     #Final step : Add shortcut value to main path and pass it through RELU activation\n",
    "    X=Add()([X,X_shortcut])\n",
    "    X=Activation('relu')(X)\n",
    "    return X"
   ]
  },
  {
   "cell_type": "code",
   "execution_count": 23,
   "metadata": {},
   "outputs": [],
   "source": [
    "def ResNet50(input_shape=(32,32,3),classes=10):\n",
    "    #Define the input as a tensor with shape input_shape\n",
    "    X_input=Input(input_shape)\n",
    "    #Zeror_padding\n",
    "    X=ZeroPadding2D((3,3))(X_input)\n",
    "    #stage 1\n",
    "    X=Conv2D(32,(7,7),strides=(2,2),name='conv1',kernel_initializer=glorot_uniform(seed=0))(X)\n",
    "    X=BatchNormalization(axis=3,name='bn_conv1')(X)\n",
    "    X=Activation('relu')(X)\n",
    "    X=MaxPooling2D((3,3),strides=(2,2))(X)\n",
    "    #stage 2\n",
    "    #X=convolutional_block(X,f=3,filters=[64,64,128],stage=2,block='a',s=1)\n",
    "    #X=identity_block(X,3,[64,64,128],stage=2,block='b')\n",
    "    #X=identity_block(X,3,[64,64,128],stage=2,block='c')\n",
    "    #stage 3\n",
    "    #X=convolutional_block(X,f=3,filters=[128,128,512],stage=3,block='a',s=2)\n",
    "    #X=identity_block(X,3,[128,128,512],stage=3,block='b')\n",
    "    #X=identity_block(X,3,[128,128,512],stage=3,block='c')\n",
    "   # X=identity_block(X,3,[128,128,512],stage=3,block='d')\n",
    "    \n",
    "    #stage 4\n",
    "    #X=convolutional_block(X,f=3,filters=[256,256,1024],stage=4,block='a',s=2)\n",
    "    #X=identity_block(X,3,[256,256,1024],stage=4,block='b')\n",
    "    #X=identity_block(X,3,[256,256,1024],stage=4,block='c')\n",
    "    #X=identity_block(X,3,[256,256,1024],stage=4,block='d')\n",
    "    #X=identity_block(X,3,[256,256,1024],stage=4,block='e')\n",
    "    #X=identity_block(X,3,[256,256,1024],stage=4,block='f')\n",
    "    \n",
    "    #stage 5\n",
    "    #X=convolutional_block(X,f=3,filters=[512,512,2048],stage=5,block='a',s=2)\n",
    "   # X=identity_block(X,3,[512,512,2048],stage=5,block='b')\n",
    "   # X=identity_block(X,3,[512,512,2048],stage=5,block='c')\n",
    "    \n",
    "    #AVGpool\n",
    "    X=AveragePooling2D((2,2),name='avg_pool')(X)\n",
    "    \n",
    "    #outer Layer\n",
    "    X=Flatten()(X)\n",
    "    X=Dense(10,activation='softmax',name='fc'+str(classes),kernel_initializer=glorot_uniform(seed=0))(X)\n",
    "    \n",
    "    #create model\n",
    "    model=Model(inputs=X_input,outputs=X,name='ReSNet50')\n",
    "    return model\n",
    "    \n",
    "    "
   ]
  },
  {
   "cell_type": "code",
   "execution_count": 24,
   "metadata": {},
   "outputs": [
    {
     "data": {
      "text/plain": [
       "<keras.engine.training.Model at 0x2673aa056c8>"
      ]
     },
     "execution_count": 24,
     "metadata": {},
     "output_type": "execute_result"
    }
   ],
   "source": [
    "ResNet50()"
   ]
  },
  {
   "cell_type": "code",
   "execution_count": 25,
   "metadata": {},
   "outputs": [],
   "source": [
    "model=ResNet50(input_shape=(32,32,3),classes=10)"
   ]
  },
  {
   "cell_type": "code",
   "execution_count": 26,
   "metadata": {},
   "outputs": [
    {
     "name": "stdout",
     "output_type": "stream",
     "text": [
      "Model: \"ReSNet50\"\n",
      "_________________________________________________________________\n",
      "Layer (type)                 Output Shape              Param #   \n",
      "=================================================================\n",
      "input_2 (InputLayer)         (None, 32, 32, 3)         0         \n",
      "_________________________________________________________________\n",
      "zero_padding2d_2 (ZeroPaddin (None, 38, 38, 3)         0         \n",
      "_________________________________________________________________\n",
      "conv1 (Conv2D)               (None, 16, 16, 32)        4736      \n",
      "_________________________________________________________________\n",
      "bn_conv1 (BatchNormalization (None, 16, 16, 32)        128       \n",
      "_________________________________________________________________\n",
      "activation_2 (Activation)    (None, 16, 16, 32)        0         \n",
      "_________________________________________________________________\n",
      "max_pooling2d_2 (MaxPooling2 (None, 7, 7, 32)          0         \n",
      "_________________________________________________________________\n",
      "avg_pool (AveragePooling2D)  (None, 3, 3, 32)          0         \n",
      "_________________________________________________________________\n",
      "flatten_2 (Flatten)          (None, 288)               0         \n",
      "_________________________________________________________________\n",
      "fc10 (Dense)                 (None, 10)                2890      \n",
      "=================================================================\n",
      "Total params: 7,754\n",
      "Trainable params: 7,690\n",
      "Non-trainable params: 64\n",
      "_________________________________________________________________\n",
      "None\n"
     ]
    }
   ],
   "source": [
    "print(model.summary())"
   ]
  },
  {
   "cell_type": "code",
   "execution_count": 27,
   "metadata": {},
   "outputs": [],
   "source": [
    "model.compile(optimizer = Adam(lr=.00025) , loss = 'categorical_crossentropy', metrics=['accuracy'])"
   ]
  },
  {
   "cell_type": "code",
   "execution_count": 28,
   "metadata": {},
   "outputs": [],
   "source": [
    "learning_rate_reduction = ReduceLROnPlateau(monitor='val_acc', patience=3, verbose=1, \n",
    "                                            factor=0.5, min_lr=0.00001)"
   ]
  },
  {
   "cell_type": "code",
   "execution_count": 29,
   "metadata": {},
   "outputs": [
    {
     "name": "stdout",
     "output_type": "stream",
     "text": [
      "Train on 80000 samples, validate on 20000 samples\n",
      "Epoch 1/50\n",
      "80000/80000 [==============================] - 17s 210us/step - loss: 0.7993 - accuracy: 0.7670 - val_loss: 0.4829 - val_accuracy: 0.8537\n",
      "Epoch 2/50\n",
      "80000/80000 [==============================] - 13s 157us/step - loss: 0.2992 - accuracy: 0.9255 - val_loss: 0.2539 - val_accuracy: 0.9419\n",
      "Epoch 3/50\n",
      "80000/80000 [==============================] - 12s 154us/step - loss: 0.1711 - accuracy: 0.9628 - val_loss: 0.2048 - val_accuracy: 0.9466\n",
      "Epoch 4/50\n",
      "80000/80000 [==============================] - 13s 163us/step - loss: 0.1128 - accuracy: 0.9775 - val_loss: 0.4001 - val_accuracy: 0.8598\n",
      "Epoch 5/50\n",
      "80000/80000 [==============================] - 13s 157us/step - loss: 0.0811 - accuracy: 0.9843 - val_loss: 0.2819 - val_accuracy: 0.9115\n",
      "Epoch 6/50\n",
      "80000/80000 [==============================] - 13s 159us/step - loss: 0.0605 - accuracy: 0.9888 - val_loss: 0.0804 - val_accuracy: 0.9829\n",
      "Epoch 7/50\n",
      "80000/80000 [==============================] - 13s 161us/step - loss: 0.0475 - accuracy: 0.9915 - val_loss: 0.0611 - val_accuracy: 0.9856\n",
      "Epoch 8/50\n",
      "80000/80000 [==============================] - 13s 157us/step - loss: 0.0388 - accuracy: 0.9930 - val_loss: 0.1577 - val_accuracy: 0.9352\n",
      "Epoch 9/50\n",
      "80000/80000 [==============================] - 13s 166us/step - loss: 0.0321 - accuracy: 0.9940 - val_loss: 0.0679 - val_accuracy: 0.9849\n",
      "Epoch 10/50\n",
      "80000/80000 [==============================] - 13s 158us/step - loss: 0.0263 - accuracy: 0.9954 - val_loss: 0.2734 - val_accuracy: 0.8996\n",
      "Epoch 11/50\n",
      "80000/80000 [==============================] - 13s 158us/step - loss: 0.0222 - accuracy: 0.9963 - val_loss: 0.1001 - val_accuracy: 0.9692\n",
      "Epoch 12/50\n",
      "80000/80000 [==============================] - 13s 165us/step - loss: 0.0196 - accuracy: 0.9969 - val_loss: 0.0971 - val_accuracy: 0.9631\n",
      "Epoch 13/50\n",
      "80000/80000 [==============================] - 13s 163us/step - loss: 0.0169 - accuracy: 0.9976 - val_loss: 0.4203 - val_accuracy: 0.8598\n",
      "Epoch 14/50\n",
      "80000/80000 [==============================] - 13s 161us/step - loss: 0.0161 - accuracy: 0.9972 - val_loss: 0.0632 - val_accuracy: 0.9811\n",
      "Epoch 15/50\n",
      "80000/80000 [==============================] - 13s 160us/step - loss: 0.0128 - accuracy: 0.9982 - val_loss: 0.0724 - val_accuracy: 0.9730\n",
      "Epoch 16/50\n",
      "80000/80000 [==============================] - 13s 162us/step - loss: 0.0123 - accuracy: 0.9979 - val_loss: 0.1036 - val_accuracy: 0.9659\n",
      "Epoch 17/50\n",
      "80000/80000 [==============================] - 13s 162us/step - loss: 0.0107 - accuracy: 0.9984 - val_loss: 0.3693 - val_accuracy: 0.8776\n",
      "Epoch 18/50\n",
      "80000/80000 [==============================] - 13s 161us/step - loss: 0.0095 - accuracy: 0.9988 - val_loss: 0.0706 - val_accuracy: 0.9687\n",
      "Epoch 19/50\n",
      "80000/80000 [==============================] - 13s 161us/step - loss: 0.0101 - accuracy: 0.9982 - val_loss: 0.0411 - val_accuracy: 0.9869\n",
      "Epoch 20/50\n",
      "80000/80000 [==============================] - 13s 167us/step - loss: 0.0088 - accuracy: 0.9985 - val_loss: 0.5836 - val_accuracy: 0.8551\n",
      "Epoch 21/50\n",
      "80000/80000 [==============================] - 13s 160us/step - loss: 0.0071 - accuracy: 0.9992 - val_loss: 0.0180 - val_accuracy: 0.9959\n",
      "Epoch 22/50\n",
      "80000/80000 [==============================] - 12s 155us/step - loss: 0.0070 - accuracy: 0.9988 - val_loss: 0.0146 - val_accuracy: 0.9963\n",
      "Epoch 23/50\n",
      "80000/80000 [==============================] - 13s 159us/step - loss: 0.0069 - accuracy: 0.9990 - val_loss: 0.0100 - val_accuracy: 0.9981\n",
      "Epoch 24/50\n",
      "80000/80000 [==============================] - 13s 159us/step - loss: 0.0063 - accuracy: 0.9988 - val_loss: 0.0370 - val_accuracy: 0.9919\n",
      "Epoch 25/50\n",
      "80000/80000 [==============================] - 13s 157us/step - loss: 0.0063 - accuracy: 0.9990 - val_loss: 0.3742 - val_accuracy: 0.8921\n",
      "Epoch 26/50\n",
      "80000/80000 [==============================] - 13s 160us/step - loss: 0.0054 - accuracy: 0.9992 - val_loss: 0.0057 - val_accuracy: 0.9994\n",
      "Epoch 27/50\n",
      "80000/80000 [==============================] - 13s 157us/step - loss: 0.0054 - accuracy: 0.9992 - val_loss: 0.0105 - val_accuracy: 0.9972\n",
      "Epoch 28/50\n",
      "80000/80000 [==============================] - 13s 158us/step - loss: 0.0048 - accuracy: 0.9992 - val_loss: 0.0388 - val_accuracy: 0.9878\n",
      "Epoch 29/50\n",
      "80000/80000 [==============================] - 12s 150us/step - loss: 0.0048 - accuracy: 0.9993 - val_loss: 0.0040 - val_accuracy: 0.9992\n",
      "Epoch 30/50\n",
      "80000/80000 [==============================] - 13s 160us/step - loss: 0.0044 - accuracy: 0.9993 - val_loss: 0.0185 - val_accuracy: 0.9941\n",
      "Epoch 31/50\n",
      "80000/80000 [==============================] - 13s 158us/step - loss: 0.0042 - accuracy: 0.9994 - val_loss: 0.0099 - val_accuracy: 0.9969\n",
      "Epoch 32/50\n",
      "80000/80000 [==============================] - 13s 156us/step - loss: 0.0037 - accuracy: 0.9994 - val_loss: 0.0048 - val_accuracy: 0.9991\n",
      "Epoch 33/50\n",
      "80000/80000 [==============================] - 13s 159us/step - loss: 0.0041 - accuracy: 0.9993 - val_loss: 0.0026 - val_accuracy: 0.9998\n",
      "Epoch 34/50\n",
      "80000/80000 [==============================] - 12s 150us/step - loss: 0.0035 - accuracy: 0.9995 - val_loss: 0.0039 - val_accuracy: 0.9996\n",
      "Epoch 35/50\n",
      "80000/80000 [==============================] - 13s 157us/step - loss: 0.0048 - accuracy: 0.9991 - val_loss: 2.1164 - val_accuracy: 0.7147\n",
      "Epoch 36/50\n",
      "80000/80000 [==============================] - 12s 153us/step - loss: 0.0029 - accuracy: 0.9995 - val_loss: 0.0829 - val_accuracy: 0.9738\n",
      "Epoch 37/50\n",
      "80000/80000 [==============================] - 12s 155us/step - loss: 0.0034 - accuracy: 0.9995 - val_loss: 0.0167 - val_accuracy: 0.9921\n",
      "Epoch 38/50\n",
      "80000/80000 [==============================] - 12s 152us/step - loss: 0.0026 - accuracy: 0.9996 - val_loss: 0.0296 - val_accuracy: 0.9883\n",
      "Epoch 39/50\n",
      "80000/80000 [==============================] - 12s 149us/step - loss: 0.0030 - accuracy: 0.9995 - val_loss: 0.0027 - val_accuracy: 0.9996\n",
      "Epoch 40/50\n",
      "80000/80000 [==============================] - 12s 155us/step - loss: 0.0026 - accuracy: 0.9995 - val_loss: 0.0076 - val_accuracy: 0.9987\n",
      "Epoch 41/50\n",
      "80000/80000 [==============================] - 13s 157us/step - loss: 0.0029 - accuracy: 0.9995 - val_loss: 0.2861 - val_accuracy: 0.9228\n",
      "Epoch 42/50\n",
      "80000/80000 [==============================] - 12s 152us/step - loss: 0.0026 - accuracy: 0.9995 - val_loss: 0.0020 - val_accuracy: 1.0000\n",
      "Epoch 43/50\n",
      "80000/80000 [==============================] - 13s 158us/step - loss: 0.0030 - accuracy: 0.9994 - val_loss: 0.0532 - val_accuracy: 0.9819\n",
      "Epoch 44/50\n",
      "80000/80000 [==============================] - 12s 147us/step - loss: 0.0025 - accuracy: 0.9996 - val_loss: 0.0081 - val_accuracy: 0.9984\n",
      "Epoch 45/50\n",
      "80000/80000 [==============================] - 13s 157us/step - loss: 0.0019 - accuracy: 0.9998 - val_loss: 0.2786 - val_accuracy: 0.9178\n",
      "Epoch 46/50\n",
      "80000/80000 [==============================] - 12s 151us/step - loss: 0.0035 - accuracy: 0.9992 - val_loss: 0.0101 - val_accuracy: 0.9973\n",
      "Epoch 47/50\n",
      "80000/80000 [==============================] - 12s 154us/step - loss: 0.0020 - accuracy: 0.9997 - val_loss: 9.7349e-04 - val_accuracy: 0.9999\n",
      "Epoch 48/50\n",
      "80000/80000 [==============================] - 12s 152us/step - loss: 0.0026 - accuracy: 0.9994 - val_loss: 0.9956 - val_accuracy: 0.8296\n",
      "Epoch 49/50\n",
      "80000/80000 [==============================] - 12s 150us/step - loss: 0.0013 - accuracy: 0.9999 - val_loss: 0.0085 - val_accuracy: 0.9976\n",
      "Epoch 50/50\n",
      "80000/80000 [==============================] - 12s 153us/step - loss: 0.0021 - accuracy: 0.9996 - val_loss: 0.0064 - val_accuracy: 0.9981\n"
     ]
    }
   ],
   "source": [
    "history = model.fit(np_train_image_list,bin_train_image_labels, epochs = epochs,\n",
    "                                  validation_data=(np_valid_image_list, bin_valid_image_labels), verbose = 1, \n",
    "                                  #steps_per_epoch=x_train.shape[0] // batch_size, \n",
    "                                  callbacks=[learning_rate_reduction])"
   ]
  },
  {
   "cell_type": "code",
   "execution_count": 30,
   "metadata": {},
   "outputs": [
    {
     "name": "stdout",
     "output_type": "stream",
     "text": [
      "[INFO] Calculating model accuracy\n",
      "20000/20000 [==============================] - 1s 64us/step\n",
      "Test Accuracy: 99.80999827384949\n"
     ]
    }
   ],
   "source": [
    "\n",
    "print(\"[INFO] Calculating model accuracy\")\n",
    "scores = model.evaluate(np_valid_image_list, bin_valid_image_labels)\n",
    "print(f\"Test Accuracy: {scores[1]*100}\")\n"
   ]
  },
  {
   "cell_type": "code",
   "execution_count": 31,
   "metadata": {},
   "outputs": [
    {
     "name": "stdout",
     "output_type": "stream",
     "text": [
      "[INFO] Calculating model accuracy\n",
      "20000/20000 [==============================] - 1s 63us/step\n",
      " std Test Accuracy: numpy.std99.80999827384949\n"
     ]
    }
   ],
   "source": [
    "print(\"[INFO] Calculating model accuracy\")\n",
    "scores = model.evaluate(np_valid_image_list, bin_valid_image_labels)\n",
    "print(f\" std Test Accuracy: numpy.std{scores[1]*100}\")"
   ]
  },
  {
   "cell_type": "code",
   "execution_count": 43,
   "metadata": {},
   "outputs": [
    {
     "data": {
      "image/png": "[encoded data removed]",
      "text/plain": [
       "<Figure size 432x288 with 1 Axes>"
      ]
     },
     "metadata": {
      "needs_background": "light"
     },
     "output_type": "display_data"
    },
    {
     "data": {
      "image/png": "[encoded data removed]",
      "text/plain": [
       "<Figure size 432x288 with 1 Axes>"
      ]
     },
     "metadata": {
      "needs_background": "light"
     },
     "output_type": "display_data"
    }
   ],
   "source": [
    "acc = history.history['accuracy']\n",
    "val_acc = history.history['val_accuracy']\n",
    "loss = history.history['loss']\n",
    "val_loss = history.history['val_loss']\n",
    "epochs = range(1, len(acc) + 1)\n",
    "\n",
    "#Train and validation accuracy\n",
    "plt.plot(epochs, acc, 'g', label='Training Accurarcy')\n",
    "plt.plot(epochs, val_acc, 'r', label='Validation Accurarcy')\n",
    "plt.title('Training and Validation Accurarcy')\n",
    "plt.legend()\n",
    "plt.xlabel('Epochs')\n",
    "plt.ylabel('Accuracy')\n",
    "plt.figure()\n",
    "#Train and validation loss\n",
    "plt.plot(epochs, loss, 'g', label='Training Loss')\n",
    "plt.plot(epochs, val_loss, 'r', label='Validation Loss')\n",
    "plt.title('Training and Validation Loss')\n",
    "plt.xlabel('Epochs')\n",
    "plt.ylabel('Loss')\n",
    "plt.legend()\n",
    "plt.show()"
   ]
  },
  {
   "cell_type": "code",
   "execution_count": 33,
   "metadata": {},
   "outputs": [],
   "source": [
    "ycalculated = model.predict(np_valid_image_list)"
   ]
  },
  {
   "cell_type": "code",
   "execution_count": 34,
   "metadata": {},
   "outputs": [
    {
     "name": "stdout",
     "output_type": "stream",
     "text": [
      "[[[[0.         0.         0.        ]\n",
      "   [0.         0.         0.        ]\n",
      "   [0.         0.         0.        ]\n",
      "   ...\n",
      "   [0.         0.         0.        ]\n",
      "   [0.         0.         0.        ]\n",
      "   [0.         0.         0.        ]]\n",
      "\n",
      "  [[0.         0.         0.        ]\n",
      "   [0.         0.         0.        ]\n",
      "   [0.         0.         0.        ]\n",
      "   ...\n",
      "   [0.         0.         0.        ]\n",
      "   [0.         0.         0.        ]\n",
      "   [0.         0.         0.        ]]\n",
      "\n",
      "  [[0.         0.         0.        ]\n",
      "   [0.         0.         0.        ]\n",
      "   [0.00784314 0.         0.        ]\n",
      "   ...\n",
      "   [0.         0.         0.        ]\n",
      "   [0.         0.         0.        ]\n",
      "   [0.         0.         0.        ]]\n",
      "\n",
      "  ...\n",
      "\n",
      "  [[0.         0.         0.        ]\n",
      "   [0.         0.         0.        ]\n",
      "   [0.         0.         0.        ]\n",
      "   ...\n",
      "   [0.         0.         0.        ]\n",
      "   [0.         0.         0.        ]\n",
      "   [0.         0.         0.        ]]\n",
      "\n",
      "  [[0.         0.         0.        ]\n",
      "   [0.         0.         0.        ]\n",
      "   [0.         0.         0.        ]\n",
      "   ...\n",
      "   [0.         0.         0.        ]\n",
      "   [0.         0.         0.        ]\n",
      "   [0.         0.         0.        ]]\n",
      "\n",
      "  [[0.         0.         0.        ]\n",
      "   [0.         0.         0.        ]\n",
      "   [0.         0.         0.        ]\n",
      "   ...\n",
      "   [0.         0.         0.        ]\n",
      "   [0.         0.         0.        ]\n",
      "   [0.         0.         0.        ]]]\n",
      "\n",
      "\n",
      " [[[0.         0.         0.        ]\n",
      "   [0.         0.         0.        ]\n",
      "   [0.00784314 0.         0.        ]\n",
      "   ...\n",
      "   [0.         0.         0.        ]\n",
      "   [0.         0.         0.        ]\n",
      "   [0.         0.         0.        ]]\n",
      "\n",
      "  [[0.         0.         0.        ]\n",
      "   [0.         0.         0.        ]\n",
      "   [0.00784314 0.         0.00392157]\n",
      "   ...\n",
      "   [0.         0.         0.        ]\n",
      "   [0.         0.         0.        ]\n",
      "   [0.         0.         0.        ]]\n",
      "\n",
      "  [[0.         0.         0.        ]\n",
      "   [0.         0.         0.        ]\n",
      "   [0.00784314 0.00392157 0.01176471]\n",
      "   ...\n",
      "   [0.         0.         0.        ]\n",
      "   [0.         0.         0.        ]\n",
      "   [0.         0.         0.        ]]\n",
      "\n",
      "  ...\n",
      "\n",
      "  [[0.         0.         0.        ]\n",
      "   [0.         0.         0.        ]\n",
      "   [0.         0.         0.        ]\n",
      "   ...\n",
      "   [0.         0.00392157 0.        ]\n",
      "   [0.         0.         0.        ]\n",
      "   [0.         0.         0.        ]]\n",
      "\n",
      "  [[0.         0.         0.        ]\n",
      "   [0.         0.         0.        ]\n",
      "   [0.         0.         0.        ]\n",
      "   ...\n",
      "   [0.         0.         0.00392157]\n",
      "   [0.         0.         0.        ]\n",
      "   [0.         0.         0.        ]]\n",
      "\n",
      "  [[0.         0.         0.        ]\n",
      "   [0.         0.         0.        ]\n",
      "   [0.         0.         0.        ]\n",
      "   ...\n",
      "   [0.00784314 0.         0.        ]\n",
      "   [0.         0.         0.        ]\n",
      "   [0.         0.         0.        ]]]\n",
      "\n",
      "\n",
      " [[[0.00392157 0.00392157 0.00392157]\n",
      "   [0.00392157 0.00392157 0.00392157]\n",
      "   [0.         0.00392157 0.        ]\n",
      "   ...\n",
      "   [0.         0.         0.        ]\n",
      "   [0.         0.         0.        ]\n",
      "   [0.         0.         0.        ]]\n",
      "\n",
      "  [[0.21176471 0.21960784 0.21568628]\n",
      "   [0.57254905 0.5882353  0.5803922 ]\n",
      "   [0.6627451  0.68235296 0.6745098 ]\n",
      "   ...\n",
      "   [0.         0.         0.        ]\n",
      "   [0.         0.         0.        ]\n",
      "   [0.         0.         0.        ]]\n",
      "\n",
      "  [[0.67058825 0.6901961  0.6745098 ]\n",
      "   [0.6431373  0.6627451  0.654902  ]\n",
      "   [0.6666667  0.6862745  0.6784314 ]\n",
      "   ...\n",
      "   [0.         0.         0.        ]\n",
      "   [0.         0.         0.        ]\n",
      "   [0.         0.         0.        ]]\n",
      "\n",
      "  ...\n",
      "\n",
      "  [[0.         0.         0.        ]\n",
      "   [0.         0.         0.        ]\n",
      "   [0.         0.         0.        ]\n",
      "   ...\n",
      "   [0.6509804  0.6745098  0.654902  ]\n",
      "   [0.6509804  0.6745098  0.654902  ]\n",
      "   [0.65882355 0.6745098  0.654902  ]]\n",
      "\n",
      "  [[0.         0.         0.        ]\n",
      "   [0.         0.         0.        ]\n",
      "   [0.         0.         0.        ]\n",
      "   ...\n",
      "   [0.6627451  0.6784314  0.65882355]\n",
      "   [0.5686275  0.5803922  0.57254905]\n",
      "   [0.21960784 0.23137255 0.22352941]]\n",
      "\n",
      "  [[0.         0.         0.        ]\n",
      "   [0.         0.         0.        ]\n",
      "   [0.         0.         0.        ]\n",
      "   ...\n",
      "   [0.00392157 0.00392157 0.00392157]\n",
      "   [0.         0.         0.        ]\n",
      "   [0.         0.         0.        ]]]\n",
      "\n",
      "\n",
      " ...\n",
      "\n",
      "\n",
      " [[[0.3254902  0.3372549  0.28627452]\n",
      "   [0.5411765  0.4862745  0.42352942]\n",
      "   [0.5686275  0.6039216  0.57254905]\n",
      "   ...\n",
      "   [0.07843138 0.2509804  0.2627451 ]\n",
      "   [0.30588236 0.38431373 0.4       ]\n",
      "   [0.5137255  0.40392157 0.2901961 ]]\n",
      "\n",
      "  [[0.5803922  0.56078434 0.5058824 ]\n",
      "   [0.6666667  0.61960787 0.58431375]\n",
      "   [0.6431373  0.5568628  0.5254902 ]\n",
      "   ...\n",
      "   [0.05490196 0.21960784 0.29411766]\n",
      "   [0.15294118 0.23921569 0.32941177]\n",
      "   [0.49803922 0.48235294 0.4       ]]\n",
      "\n",
      "  [[0.8352941  0.8235294  0.7764706 ]\n",
      "   [0.9098039  0.88235295 0.8392157 ]\n",
      "   [0.6039216  0.5411765  0.47058824]\n",
      "   ...\n",
      "   [0.10196079 0.23137255 0.28235295]\n",
      "   [0.03137255 0.18039216 0.2       ]\n",
      "   [0.69411767 0.6745098  0.6784314 ]]\n",
      "\n",
      "  ...\n",
      "\n",
      "  [[0.6039216  0.64705884 0.6039216 ]\n",
      "   [0.49411765 0.63529414 0.5803922 ]\n",
      "   [0.50980395 0.6901961  0.6392157 ]\n",
      "   ...\n",
      "   [0.12941177 0.15686275 0.15686275]\n",
      "   [0.18431373 0.20392157 0.25490198]\n",
      "   [0.02745098 0.10196079 0.13333334]]\n",
      "\n",
      "  [[0.6039216  0.64705884 0.6039216 ]\n",
      "   [0.46666667 0.60784316 0.5529412 ]\n",
      "   [0.43529412 0.61960787 0.5882353 ]\n",
      "   ...\n",
      "   [0.40392157 0.50980395 0.43529412]\n",
      "   [0.39215687 0.32941177 0.3019608 ]\n",
      "   [0.14509805 0.20784314 0.18431373]]\n",
      "\n",
      "  [[0.6039216  0.6392157  0.6       ]\n",
      "   [0.44313726 0.5647059  0.5176471 ]\n",
      "   [0.42745098 0.5921569  0.54901963]\n",
      "   ...\n",
      "   [0.59607846 0.5803922  0.5254902 ]\n",
      "   [0.47058824 0.4627451  0.4       ]\n",
      "   [0.42352942 0.5686275  0.49019608]]]\n",
      "\n",
      "\n",
      " [[[0.89411765 0.94509804 0.92941177]\n",
      "   [0.83137256 0.85882354 0.8392157 ]\n",
      "   [0.8980392  0.9529412  0.92941177]\n",
      "   ...\n",
      "   [0.8980392  0.92156863 0.9019608 ]\n",
      "   [0.89411765 0.9137255  0.91764706]\n",
      "   [0.8235294  0.8627451  0.8627451 ]]\n",
      "\n",
      "  [[0.8509804  0.8901961  0.8784314 ]\n",
      "   [0.89411765 0.9254902  0.8980392 ]\n",
      "   [0.8901961  0.92941177 0.9137255 ]\n",
      "   ...\n",
      "   [0.8235294  0.84705883 0.84705883]\n",
      "   [0.7882353  0.8117647  0.827451  ]\n",
      "   [0.6431373  0.7294118  0.7176471 ]]\n",
      "\n",
      "  [[0.9254902  0.95686275 0.9490196 ]\n",
      "   [0.8980392  0.93333334 0.92156863]\n",
      "   [0.90588236 0.9372549  0.91764706]\n",
      "   ...\n",
      "   [0.7647059  0.8156863  0.83137256]\n",
      "   [0.48235294 0.6039216  0.6431373 ]\n",
      "   [0.35686275 0.54509807 0.5803922 ]]\n",
      "\n",
      "  ...\n",
      "\n",
      "  [[0.13725491 0.4        0.42352942]\n",
      "   [0.3372549  0.6745098  0.7529412 ]\n",
      "   [0.43529412 0.7647059  0.8392157 ]\n",
      "   ...\n",
      "   [0.9372549  0.9607843  0.972549  ]\n",
      "   [0.8352941  0.8666667  0.8666667 ]\n",
      "   [0.8        0.8235294  0.8509804 ]]\n",
      "\n",
      "  [[0.2784314  0.6313726  0.6666667 ]\n",
      "   [0.43137255 0.79607844 0.84313726]\n",
      "   [0.29803923 0.5294118  0.6392157 ]\n",
      "   ...\n",
      "   [0.8666667  0.8901961  0.9098039 ]\n",
      "   [0.8745098  0.90588236 0.91764706]\n",
      "   [0.85882354 0.8862745  0.8980392 ]]\n",
      "\n",
      "  [[0.4392157  0.77254903 0.84705883]\n",
      "   [0.35686275 0.58431375 0.60784316]\n",
      "   [0.6901961  0.7921569  0.8117647 ]\n",
      "   ...\n",
      "   [0.8745098  0.9137255  0.92941177]\n",
      "   [0.8901961  0.92156863 0.91764706]\n",
      "   [0.7411765  0.8039216  0.8       ]]]\n",
      "\n",
      "\n",
      " [[[0.         0.         0.        ]\n",
      "   [0.         0.         0.        ]\n",
      "   [0.         0.         0.        ]\n",
      "   ...\n",
      "   [0.6313726  0.68235296 0.59607846]\n",
      "   [0.6156863  0.6627451  0.5803922 ]\n",
      "   [0.         0.         0.        ]]\n",
      "\n",
      "  [[0.         0.         0.        ]\n",
      "   [0.         0.         0.        ]\n",
      "   [0.         0.         0.        ]\n",
      "   ...\n",
      "   [0.6313726  0.68235296 0.59607846]\n",
      "   [0.62352943 0.6784314  0.58431375]\n",
      "   [0.03529412 0.04313726 0.03137255]]\n",
      "\n",
      "  [[0.         0.         0.        ]\n",
      "   [0.         0.         0.        ]\n",
      "   [0.         0.         0.        ]\n",
      "   ...\n",
      "   [0.63529414 0.6862745  0.6       ]\n",
      "   [0.6313726  0.6862745  0.5921569 ]\n",
      "   [0.6156863  0.6745098  0.5803922 ]]\n",
      "\n",
      "  ...\n",
      "\n",
      "  [[0.5921569  0.6627451  0.5529412 ]\n",
      "   [0.59607846 0.65882355 0.5647059 ]\n",
      "   [0.61960787 0.6745098  0.5803922 ]\n",
      "   ...\n",
      "   [0.         0.         0.        ]\n",
      "   [0.         0.         0.        ]\n",
      "   [0.         0.         0.        ]]\n",
      "\n",
      "  [[0.01960784 0.03529412 0.01960784]\n",
      "   [0.6039216  0.6666667  0.5764706 ]\n",
      "   [0.627451   0.67058825 0.58431375]\n",
      "   ...\n",
      "   [0.         0.         0.        ]\n",
      "   [0.         0.         0.        ]\n",
      "   [0.         0.         0.        ]]\n",
      "\n",
      "  [[0.         0.         0.        ]\n",
      "   [0.59607846 0.63529414 0.5803922 ]\n",
      "   [0.68235296 0.7137255  0.6313726 ]\n",
      "   ...\n",
      "   [0.         0.         0.        ]\n",
      "   [0.         0.         0.        ]\n",
      "   [0.         0.         0.        ]]]]\n"
     ]
    }
   ],
   "source": [
    "print(np_valid_image_list)"
   ]
  },
  {
   "cell_type": "code",
   "execution_count": 35,
   "metadata": {},
   "outputs": [],
   "source": [
    "yhat_classes =np.argmax(ycalculated,axis=1)"
   ]
  },
  {
   "cell_type": "code",
   "execution_count": 36,
   "metadata": {},
   "outputs": [],
   "source": [
    "import numpy as np\n",
    "rounded_labels=np.argmax(bin_valid_image_labels,axis=1)\n"
   ]
  },
  {
   "cell_type": "code",
   "execution_count": 37,
   "metadata": {},
   "outputs": [
    {
     "name": "stdout",
     "output_type": "stream",
     "text": [
      "['Amphidinium' 'Chatonella' 'Cochlodinium' 'Gymnodinium catenatum'\n",
      " 'Karenia' 'Lyngbya' 'Ostreopsis' 'Prymnesium parvum' 'Pseudo-nitzschia'\n",
      " 'Tolypothrix conglutinata']\n"
     ]
    }
   ],
   "source": [
    "print(label_binarizer.classes_)"
   ]
  },
  {
   "cell_type": "code",
   "execution_count": 38,
   "metadata": {},
   "outputs": [
    {
     "name": "stdout",
     "output_type": "stream",
     "text": [
      "[[2000    0    0    0    0    0    0    0    0    0]\n",
      " [   0 2000    0    0    0    0    0    0    0    0]\n",
      " [   0    0 2000    0    0    0    0    0    0    0]\n",
      " [   0    0    0 2000    0    0    0    0    0    0]\n",
      " [  25    1    1    0 1969    0    0    0    4    0]\n",
      " [   0    0    0    0    0 2000    0    0    0    0]\n",
      " [   1    6    0    0    0    0 1993    0    0    0]\n",
      " [   0    0    0    0    0    0    0 2000    0    0]\n",
      " [   0    0    0    0    0    0    0    0 2000    0]\n",
      " [   0    0    0    0    0    0    0    0    0 2000]]\n"
     ]
    }
   ],
   "source": [
    "from sklearn.metrics import accuracy_score,classification_report \n",
    "from sklearn.metrics import precision_score \n",
    "from sklearn.metrics import recall_score \n",
    "from sklearn.metrics import f1_score \n",
    "from sklearn.metrics import cohen_kappa_score \n",
    "from sklearn.metrics import roc_auc_score \n",
    "from sklearn.metrics import confusion_matrix\n",
    "from sklearn.preprocessing import Normalizer\n",
    "#import seaborn as sns\n",
    "#y_pred=model.predict_classes(np_valid_image_list)\n",
    "#con_mat = tf.math.confusion_matrix(labels=y_true, predictions=ycalculated).numpy()\n",
    "#matrix = confusion_matrix(rounded_labels,yhat_classes)\n",
    "#y_pred=model.predict(np.array(val_image_list))\n",
    "#yhat_classes = [\"honda\", \"chevrolet\", \"honda\", \"toyota\", \"toyota\", \"chevrolet\"]\n",
    "#rounded_labels = [\"honda\", \"chevrolet\", \"honda\", \"toyota\", \"toyota\", \"honda\"]\n",
    "cm =confusion_matrix(rounded_labels,yhat_classes)  \n",
    "\n",
    "#matrix =confusion_matrix(bin_val_image_labels.argmax(axis=1), ycalculated)\n",
    "print(cm)"
   ]
  },
  {
   "cell_type": "code",
   "execution_count": 44,
   "metadata": {},
   "outputs": [
    {
     "data": {
      "image/png": "[encoded data removed]",
      "text/plain": [
       "<Figure size 720x864 with 1 Axes>"
      ]
     },
     "metadata": {
      "needs_background": "light"
     },
     "output_type": "display_data"
    }
   ],
   "source": [
    "import numpy as np\n",
    "\n",
    "def plot_confusion_matrix(cm,\n",
    "                          target_names,\n",
    "                          title='Confusion matrix',\n",
    "                          cmap=None,\n",
    "                          normalize=True):\n",
    "    \"\"\"\n",
    "    given a sklearn confusion matrix (cm), make a nice plot\n",
    "\n",
    "    Arguments\n",
    "    ---------\n",
    "    cm:           confusion matrix from sklearn.metrics.confusion_matrix\n",
    "\n",
    "    target_names: given classification classes such as [0, 1, 2]\n",
    "                  the class names, for example: ['high', 'medium', 'low']\n",
    "\n",
    "    title:        the text to display at the top of the matrix\n",
    "\n",
    "    cmap:         the gradient of the values displayed from matplotlib.pyplot.cm\n",
    "                  see http://matplotlib.org/examples/color/colormaps_reference.html\n",
    "                  plt.get_cmap('jet') or plt.cm.Blues\n",
    "\n",
    "    normalize:    If False, plot the raw numbers\n",
    "                  If True, plot the proportions\n",
    "\n",
    "    Usage\n",
    "    -----\n",
    "    plot_confusion_matrix(cm           = cm,                  # confusion matrix created by\n",
    "                                                              # sklearn.metrics.confusion_matrix\n",
    "                          normalize    = True,                # show proportions\n",
    "                          target_names = y_labels_vals,       # list of names of the classes\n",
    "                          title        = best_estimator_name) # title of graph\n",
    "\n",
    "    Citiation\n",
    "    ---------\n",
    "    http://scikit-learn.org/stable/auto_examples/model_selection/plot_confusion_matrix.html\n",
    "\n",
    "    \"\"\"\n",
    "    import matplotlib.pyplot as plt\n",
    "    import numpy as np\n",
    "    import itertools\n",
    "\n",
    "    accuracy = np.trace(cm) / float(np.sum(cm))\n",
    "    misclass = 1 - accuracy\n",
    "\n",
    "    if cmap is None:\n",
    "        cmap = plt.get_cmap('Blues')\n",
    "\n",
    "    plt.figure(figsize=(10,12))\n",
    "    plt.imshow(cm, interpolation='nearest', cmap=cmap)\n",
    "    plt.title(title, fontsize = 'xx-large')\n",
    "\n",
    "    if target_names is not None:\n",
    "        tick_marks = np.arange(len(target_names))\n",
    "        plt.xticks(tick_marks, target_names, rotation=45)\n",
    "        plt.yticks(tick_marks, target_names)\n",
    "\n",
    "    if normalize:\n",
    "        cm = cm.astype('float') / cm.sum(axis=1)[:, np.newaxis]\n",
    "\n",
    "\n",
    "    thresh = cm.max() / 1.5 if normalize else cm.max() / 2\n",
    "    for i, j in itertools.product(range(cm.shape[0]), range(cm.shape[1])):\n",
    "        if normalize:\n",
    "            plt.text(j, i, \"{:0.4f}\".format(cm[i, j]),\n",
    "                     horizontalalignment=\"center\",\n",
    "                     color=\"white\" if cm[i, j] > thresh else \"black\")\n",
    "        else:\n",
    "            plt.text(j, i, \"{:,}\".format(cm[i, j]),\n",
    "                     horizontalalignment=\"center\",\n",
    "                     color=\"white\" if cm[i, j] > thresh else \"black\")\n",
    "\n",
    "\n",
    "    plt.tight_layout()\n",
    "    plt.ylabel('True Label')\n",
    "    plt.xlabel('Predicted Label\\nAccuracy={:0.4f}; Misclass={:0.4f}'.format(accuracy, misclass))\n",
    "    plt.show()\n",
    "    \n",
    "plot_confusion_matrix(cm, \n",
    "                      normalize = False,\n",
    "                      target_names=['Amphidinium','Cochlodinium','Gymnodinium','Karenia','Lyngbya',\n",
    " 'Ostreopsis','Prymnesium','Pseudo-nitzschia ',\n",
    " 'Tolypothrix','Chattonella'],\n",
    "                      title        = \"Confusion Matrix\")"
   ]
  },
  {
   "cell_type": "code",
   "execution_count": 40,
   "metadata": {},
   "outputs": [
    {
     "name": "stdout",
     "output_type": "stream",
     "text": [
      "                   precision    recall  f1-score   support\n",
      "\n",
      "      Amphidinium       0.99      1.00      0.99      2000\n",
      "     Cochlodinium       1.00      1.00      1.00      2000\n",
      "      Gymnodinium       1.00      1.00      1.00      2000\n",
      "          Karenia       1.00      1.00      1.00      2000\n",
      "          Lyngbya       1.00      0.98      0.99      2000\n",
      "       Ostreopsis       1.00      1.00      1.00      2000\n",
      "       Prymnesium       1.00      1.00      1.00      2000\n",
      "Pseudo-nitzschia        1.00      1.00      1.00      2000\n",
      "      Tolypothrix       1.00      1.00      1.00      2000\n",
      "      Chattonella       1.00      1.00      1.00      2000\n",
      "\n",
      "         accuracy                           1.00     20000\n",
      "        macro avg       1.00      1.00      1.00     20000\n",
      "     weighted avg       1.00      1.00      1.00     20000\n",
      "\n"
     ]
    }
   ],
   "source": [
    "from sklearn.metrics import accuracy_score,classification_report \n",
    "target_names =['Amphidinium','Cochlodinium','Gymnodinium','Karenia','Lyngbya',\n",
    " 'Ostreopsis','Prymnesium','Pseudo-nitzschia ',\n",
    " 'Tolypothrix','Chattonella']\n",
    "print(classification_report(rounded_labels, yhat_classes, target_names=target_names))"
   ]
  },
  {
   "cell_type": "code",
   "execution_count": 41,
   "metadata": {},
   "outputs": [],
   "source": [
    "class_to_label_map={0:'Amphidinium',1:'Cochlodinium',2:'Gymnodinium',3:'Karenia',4:'Lyngbya',5:\n",
    " 'Ostreopsis',6:'Prymnesium parvum',7:'Pseudo-nitzschia',8:\n",
    " 'Tolypothrix-conglutinata',9:'chatonella'}"
   ]
  },
  {
   "cell_type": "code",
   "execution_count": 46,
   "metadata": {},
   "outputs": [
    {
     "data": {
      "image/png": "[encoded data removed]",
      "text/plain": [
       "<Figure size 432x288 with 1 Axes>"
      ]
     },
     "metadata": {
      "needs_background": "light"
     },
     "output_type": "display_data"
    },
    {
     "data": {
      "image/png": "[encoded data removed]",
      "text/plain": [
       "<Figure size 432x288 with 1 Axes>"
      ]
     },
     "metadata": {
      "needs_background": "light"
     },
     "output_type": "display_data"
    }
   ],
   "source": [
    "from sklearn.datasets import make_classification\n",
    "from sklearn.preprocessing import label_binarize\n",
    "from scipy import interp\n",
    "from itertools import cycle\n",
    "\n",
    "n_classes =10\n",
    "\n",
    "from sklearn.metrics import roc_curve, auc\n",
    "\n",
    "# Plot linewidth.\n",
    "lw = 2\n",
    "lb = LabelBinarizer()\n",
    "lb.fit(rounded_labels)\n",
    "y_test= lb.transform(rounded_labels)\n",
    "snn_pred = lb.transform(yhat_classes)\n",
    "# Compute ROC curve and ROC area for each class\n",
    "fpr = dict()\n",
    "tpr = dict()\n",
    "roc_auc = dict()\n",
    "for i in range(n_classes):\n",
    "    fpr[i], tpr[i], _ = roc_curve(y_test[:, i], snn_pred[:, i])\n",
    "    roc_auc[i] = auc(fpr[i], tpr[i])\n",
    "\n",
    "# Compute micro-average ROC curve and ROC area\n",
    "fpr[\"micro\"], tpr[\"micro\"], _ = roc_curve(y_test.ravel(), snn_pred.ravel())\n",
    "roc_auc[\"micro\"] = auc(fpr[\"micro\"], tpr[\"micro\"])\n",
    "\n",
    "# Compute macro-average ROC curve and ROC area\n",
    "\n",
    "# First aggregate all false positive rates\n",
    "all_fpr = np.unique(np.concatenate([fpr[i] for i in range(n_classes)]))\n",
    "\n",
    "# Then interpolate all ROC curves at this points\n",
    "mean_tpr = np.zeros_like(all_fpr)\n",
    "for i in range(n_classes):\n",
    "    mean_tpr += interp(all_fpr, fpr[i], tpr[i])\n",
    "\n",
    "# Finally average it and compute AUC\n",
    "mean_tpr /= n_classes\n",
    "\n",
    "fpr[\"macro\"] = all_fpr\n",
    "tpr[\"macro\"] = mean_tpr\n",
    "roc_auc[\"macro\"] = auc(fpr[\"macro\"], tpr[\"macro\"])\n",
    "\n",
    "# Plot all ROC curves\n",
    "plt.figure(1)\n",
    "plt.plot(fpr[\"micro\"], tpr[\"micro\"],\n",
    "         label='micro-average ROC curve (area = {0:0.2f})'\n",
    "               ''.format(roc_auc[\"micro\"]),\n",
    "         color='deeppink', linestyle=':', linewidth=4)\n",
    "\n",
    "plt.plot(fpr[\"macro\"], tpr[\"macro\"],\n",
    "         label='macro-average ROC curve (area = {0:0.2f})'\n",
    "               ''.format(roc_auc[\"macro\"]),\n",
    "         color='navy', linestyle=':', linewidth=4)\n",
    "\n",
    "colors = cycle(['aqua', 'darkorange', 'cornflowerblue'])\n",
    "for i, color in zip(range(n_classes-97), colors):\n",
    "    plt.plot(fpr[i], tpr[i], color=color, lw=lw,\n",
    "             label='ROC curve of class {0} (area = {1:0.2f})'\n",
    "             ''.format(i, roc_auc[i]))\n",
    "\n",
    "plt.plot([0, 1], [0, 1], 'k--', lw=lw)\n",
    "plt.xlim([0.0, 1.0])\n",
    "plt.ylim([0.0, 1.05])\n",
    "plt.xlabel('False Positive Rate')\n",
    "plt.ylabel('True Positive Rate')\n",
    "#plt.title('Receiver operating characteristic')\n",
    "plt.legend(loc=\"lower right\")\n",
    "plt.show()\n",
    "\n",
    "\n",
    "# Zoom in view of the upper left corner.\n",
    "plt.figure(2)\n",
    "plt.xlim(0, 0.2)\n",
    "plt.ylim(0.8, 1)\n",
    "plt.plot(fpr[\"micro\"], tpr[\"micro\"],\n",
    "         label='micro-average ROC curve (area = {0:0.2f})'\n",
    "               ''.format(roc_auc[\"micro\"]),\n",
    "         color='deeppink', linestyle=':', linewidth=4)\n",
    "\n",
    "plt.plot(fpr[\"macro\"], tpr[\"macro\"],\n",
    "         label='macro-average ROC curve (area = {0:0.2f})'\n",
    "               ''.format(roc_auc[\"macro\"]),\n",
    "         color='navy', linestyle=':', linewidth=4)\n",
    "\n",
    "colors = cycle(['aqua', 'darkorange', 'cornflowerblue'])\n",
    "for i, color in zip(range(10), colors):\n",
    "    plt.plot(fpr[i], tpr[i], color=color, lw=lw,\n",
    "             label='ROC curve (area = %0.2f) for %s' % (roc_auc[i], class_to_label_map[i]))\n",
    "\n",
    "plt.plot([0, 1], [0, 1], 'k--', lw=lw,color='white')\n",
    "\n",
    "plt.xlabel('False Positive Rate')\n",
    "plt.ylabel('True Positive Rate')\n",
    "#plt.title('Receiver operating characteristic of Cell')\n",
    "plt.legend(loc=\"lower right\")\n",
    "plt.show()\n",
    "\n"
   ]
  },
  {
   "cell_type": "code",
   "execution_count": null,
   "metadata": {},
   "outputs": [],
   "source": []
  }
 ],
 "metadata": {
  "kernelspec": {
   "display_name": "Python 3",
   "language": "python",
   "name": "python3"
  },
  "language_info": {
   "codemirror_mode": {
    "name": "ipython",
    "version": 3
   },
   "file_extension": ".py",
   "mimetype": "text/x-python",
   "name": "python",
   "nbconvert_exporter": "python",
   "pygments_lexer": "ipython3",
   "version": "3.7.6"
  }
 },
 "nbformat": 4,
 "nbformat_minor": 4
}
