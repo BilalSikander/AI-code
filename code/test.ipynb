{
 "cells": [
  {
   "cell_type": "code",
   "execution_count": 1,
   "metadata": {},
   "outputs": [
    {
     "name": "stderr",
     "output_type": "stream",
     "text": [
      "Using TensorFlow backend.\n"
     ]
    }
   ],
   "source": [
    "from keras.models import Sequential\n",
    "from keras.layers import Conv2D\n",
    "from keras.layers import MaxPooling2D\n",
    "from keras.layers import Flatten\n",
    "from keras.layers import Dense"
   ]
  },
  {
   "cell_type": "code",
   "execution_count": 2,
   "metadata": {},
   "outputs": [],
   "source": [
    "# Initialising the CNN\n",
    "classifier = Sequential()\n",
    "\n",
    "# Step 1 - Convolution\n",
    "classifier.add(Conv2D(32, (3, 3), input_shape = (64, 64, 3), activation = 'relu'))\n",
    "\n",
    "# Step 2 - Pooling\n",
    "classifier.add(MaxPooling2D(pool_size = (2, 2)))\n",
    "\n",
    "# Adding a second convolutional layer\n",
    "classifier.add(Conv2D(32, (3, 3), activation = 'relu'))\n",
    "classifier.add(MaxPooling2D(pool_size = (2, 2)))\n",
    "\n",
    "# Step 3 - Flattening\n",
    "classifier.add(Flatten())\n",
    "\n",
    "# Step 4 - Full connection\n",
    "classifier.add(Dense(units = 128, activation = 'relu'))\n",
    "classifier.add(Dense(units = 1, activation = 'sigmoid'))\n",
    "\n",
    "# Compiling the CNN\n",
    "classifier.compile(optimizer = 'adam', loss = 'binary_crossentropy', metrics = ['accuracy'])"
   ]
  },
  {
   "cell_type": "code",
   "execution_count": 4,
   "metadata": {},
   "outputs": [
    {
     "name": "stdout",
     "output_type": "stream",
     "text": [
      "Found 36804 images belonging to 7 classes.\n",
      "Found 3197 images belonging to 7 classes.\n",
      "Epoch 1/25\n",
      "8000/8000 [==============================] - 1039s 130ms/step - loss: -104447353421453.9375 - accuracy: 0.1387 - val_loss: -249675709939712.0000 - val_accuracy: 0.1442\n",
      "Epoch 2/25\n",
      "8000/8000 [==============================] - 1015s 127ms/step - loss: -694422939027757.7500 - accuracy: 0.1388 - val_loss: -1081327608659968.0000 - val_accuracy: 0.1442\n",
      "Epoch 3/25\n",
      "8000/8000 [==============================] - 1003s 125ms/step - loss: -2405985739607828.0000 - accuracy: 0.1387 - val_loss: -2958681905823744.0000 - val_accuracy: 0.1442\n",
      "Epoch 4/25\n",
      "8000/8000 [==============================] - 1012s 127ms/step - loss: -6092402883397322.0000 - accuracy: 0.1388 - val_loss: -7302074689650688.0000 - val_accuracy: 0.1442\n",
      "Epoch 5/25\n",
      "8000/8000 [==============================] - 1001s 125ms/step - loss: -12835316089049998.0000 - accuracy: 0.1385 - val_loss: -15778824008499200.0000 - val_accuracy: 0.1442\n",
      "Epoch 6/25\n",
      "8000/8000 [==============================] - 991s 124ms/step - loss: -23893697461835460.0000 - accuracy: 0.1391 - val_loss: -28167303912751104.0000 - val_accuracy: 0.1442\n",
      "Epoch 7/25\n",
      "8000/8000 [==============================] - 991s 124ms/step - loss: -40827334216734376.0000 - accuracy: 0.1386 - val_loss: -50314919102382080.0000 - val_accuracy: 0.1442\n",
      "Epoch 8/25\n",
      "8000/8000 [==============================] - 983s 123ms/step - loss: -65282962358793544.0000 - accuracy: 0.1388 - val_loss: -87648643149987840.0000 - val_accuracy: 0.1442\n",
      "Epoch 9/25\n",
      "8000/8000 [==============================] - 994s 124ms/step - loss: -99077662348143568.0000 - accuracy: 0.1387 - val_loss: -138237465201737728.0000 - val_accuracy: 0.1442\n",
      "Epoch 10/25\n",
      "8000/8000 [==============================] - 990s 124ms/step - loss: -144691922983758272.0000 - accuracy: 0.1389 - val_loss: -116191406661304320.0000 - val_accuracy: 0.1442\n",
      "Epoch 11/25\n",
      "8000/8000 [==============================] - 989s 124ms/step - loss: -203976790095115072.0000 - accuracy: 0.1388 - val_loss: -139331410551898112.0000 - val_accuracy: 0.1442\n",
      "Epoch 12/25\n",
      "8000/8000 [==============================] - 995s 124ms/step - loss: -279840282833578976.0000 - accuracy: 0.1389 - val_loss: -208746027744755712.0000 - val_accuracy: 0.1442\n",
      "Epoch 13/25\n",
      "8000/8000 [==============================] - 987s 123ms/step - loss: -375193862333170304.0000 - accuracy: 0.1386 - val_loss: -446780846230208512.0000 - val_accuracy: 0.1442\n",
      "Epoch 14/25\n",
      "8000/8000 [==============================] - 997s 125ms/step - loss: -491834279625244864.0000 - accuracy: 0.1386 - val_loss: -462084467540885504.0000 - val_accuracy: 0.1442\n",
      "Epoch 15/25\n",
      "8000/8000 [==============================] - 985s 123ms/step - loss: -634587969324996224.0000 - accuracy: 0.1387 - val_loss: -675207204399218688.0000 - val_accuracy: 0.1442\n",
      "Epoch 16/25\n",
      "8000/8000 [==============================] - 1012s 126ms/step - loss: -805303084155156864.0000 - accuracy: 0.1390 - val_loss: -986820000985645056.0000 - val_accuracy: 0.1442\n",
      "Epoch 17/25\n",
      "8000/8000 [==============================] - 1013s 127ms/step - loss: -1009094073632046464.0000 - accuracy: 0.1384 - val_loss: -1023440610138259456.0000 - val_accuracy: 0.1442\n",
      "Epoch 18/25\n",
      "8000/8000 [==============================] - 1021s 128ms/step - loss: -1248433069628899072.0000 - accuracy: 0.1388 - val_loss: -1191078956137185280.0000 - val_accuracy: 0.1442\n",
      "Epoch 19/25\n",
      "8000/8000 [==============================] - 1010s 126ms/step - loss: -1526498888297822464.0000 - accuracy: 0.1387 - val_loss: -1951153752232689664.0000 - val_accuracy: 0.1442\n",
      "Epoch 20/25\n",
      "8000/8000 [==============================] - 1004s 125ms/step - loss: -1849692778642583296.0000 - accuracy: 0.1389 - val_loss: -2251486727749238784.0000 - val_accuracy: 0.1442\n",
      "Epoch 21/25\n",
      "8000/8000 [==============================] - 1003s 125ms/step - loss: -2222028815892381440.0000 - accuracy: 0.1387 - val_loss: -1634853256540717056.0000 - val_accuracy: 0.1442\n",
      "Epoch 22/25\n",
      "8000/8000 [==============================] - 999s 125ms/step - loss: -2645541393229962752.0000 - accuracy: 0.1387 - val_loss: -1842419473949130752.0000 - val_accuracy: 0.1442\n",
      "Epoch 23/25\n",
      "8000/8000 [==============================] - 993s 124ms/step - loss: -3127808099247984128.0000 - accuracy: 0.1388 - val_loss: -2961971075530883072.0000 - val_accuracy: 0.1442\n",
      "Epoch 24/25\n",
      "8000/8000 [==============================] - 998s 125ms/step - loss: -3675622459017017856.0000 - accuracy: 0.1387 - val_loss: -3485352354247606272.0000 - val_accuracy: 0.1442\n",
      "Epoch 25/25\n",
      "8000/8000 [==============================] - 1001s 125ms/step - loss: -4289464788785341440.0000 - accuracy: 0.1386 - val_loss: -3898593903942565888.0000 - val_accuracy: 0.1442\n"
     ]
    },
    {
     "data": {
      "text/plain": [
       "<keras.callbacks.callbacks.History at 0x288021fe748>"
      ]
     },
     "execution_count": 4,
     "metadata": {},
     "output_type": "execute_result"
    }
   ],
   "source": [
    "from keras.preprocessing.image import ImageDataGenerator\n",
    "\n",
    "train_datagen = ImageDataGenerator(rescale = 1./255,\n",
    "                                   shear_range = 0.2,\n",
    "                                   zoom_range = 0.2,\n",
    "                                   horizontal_flip = True)\n",
    "\n",
    "test_datagen = ImageDataGenerator(rescale = 1./255)\n",
    "\n",
    "training_set = train_datagen.flow_from_directory('dataset/training_set',\n",
    "                                                 target_size = (64, 64),\n",
    "                                                 batch_size = 32,\n",
    "                                                 class_mode = 'binary')\n",
    "\n",
    "test_set = test_datagen.flow_from_directory('dataset/test_set',\n",
    "                                            target_size = (64, 64),\n",
    "                                            batch_size = 32,\n",
    "                                            class_mode = 'binary')\n",
    "\n",
    "classifier.fit_generator(training_set,\n",
    "                         steps_per_epoch = 8000,\n",
    "                         epochs = 25,\n",
    "                         validation_data = test_set,\n",
    "                         validation_steps = 2000)\n"
   ]
  },
  {
   "cell_type": "code",
   "execution_count": null,
   "metadata": {},
   "outputs": [],
   "source": [
    "predictions = classifier.predict(*test_set,32,0)"
   ]
  },
  {
   "cell_type": "code",
   "execution_count": null,
   "metadata": {},
   "outputs": [],
   "source": [
    "classifier.save_weights(top_model_weights_path)"
   ]
  },
  {
   "cell_type": "code",
   "execution_count": null,
   "metadata": {},
   "outputs": [],
   "source": [
    "type(test_set)"
   ]
  },
  {
   "cell_type": "code",
   "execution_count": 38,
   "metadata": {},
   "outputs": [
    {
     "data": {
      "text/plain": [
       "array([[1.],\n",
       "       [1.],\n",
       "       [1.],\n",
       "       ...,\n",
       "       [1.],\n",
       "       [1.],\n",
       "       [1.]], dtype=float32)"
      ]
     },
     "execution_count": 38,
     "metadata": {},
     "output_type": "execute_result"
    }
   ],
   "source": [
    "classifier.predict(test_set)\n"
   ]
  },
  {
   "cell_type": "code",
   "execution_count": 39,
   "metadata": {},
   "outputs": [
    {
     "ename": "NameError",
     "evalue": "name 'predictions' is not defined",
     "output_type": "error",
     "traceback": [
      "\u001b[1;31m---------------------------------------------------------------------------\u001b[0m",
      "\u001b[1;31mNameError\u001b[0m                                 Traceback (most recent call last)",
      "\u001b[1;32m<ipython-input-39-29d84df0aa7c>\u001b[0m in \u001b[0;36m<module>\u001b[1;34m\u001b[0m\n\u001b[1;32m----> 1\u001b[1;33m \u001b[0mtype\u001b[0m\u001b[1;33m(\u001b[0m\u001b[0mpredictions\u001b[0m\u001b[1;33m)\u001b[0m\u001b[1;33m\u001b[0m\u001b[1;33m\u001b[0m\u001b[0m\n\u001b[0m",
      "\u001b[1;31mNameError\u001b[0m: name 'predictions' is not defined"
     ]
    }
   ],
   "source": [
    "type(predictions)"
   ]
  },
  {
   "cell_type": "code",
   "execution_count": 37,
   "metadata": {},
   "outputs": [
    {
     "ename": "NameError",
     "evalue": "name 'predictions' is not defined",
     "output_type": "error",
     "traceback": [
      "\u001b[1;31m---------------------------------------------------------------------------\u001b[0m",
      "\u001b[1;31mNameError\u001b[0m                                 Traceback (most recent call last)",
      "\u001b[1;32m<ipython-input-37-fd2951b82103>\u001b[0m in \u001b[0;36m<module>\u001b[1;34m\u001b[0m\n\u001b[1;32m----> 1\u001b[1;33m \u001b[0mpredictions\u001b[0m\u001b[1;33m\u001b[0m\u001b[1;33m\u001b[0m\u001b[0m\n\u001b[0m",
      "\u001b[1;31mNameError\u001b[0m: name 'predictions' is not defined"
     ]
    }
   ],
   "source": [
    "predictions"
   ]
  },
  {
   "cell_type": "code",
   "execution_count": 40,
   "metadata": {},
   "outputs": [
    {
     "ename": "NameError",
     "evalue": "name 'top_model_weights_path' is not defined",
     "output_type": "error",
     "traceback": [
      "\u001b[1;31m---------------------------------------------------------------------------\u001b[0m",
      "\u001b[1;31mNameError\u001b[0m                                 Traceback (most recent call last)",
      "\u001b[1;32m<ipython-input-40-ec9265d75388>\u001b[0m in \u001b[0;36m<module>\u001b[1;34m\u001b[0m\n\u001b[1;32m----> 1\u001b[1;33m \u001b[0mtop_model_weights_path\u001b[0m\u001b[1;33m\u001b[0m\u001b[1;33m\u001b[0m\u001b[0m\n\u001b[0m",
      "\u001b[1;31mNameError\u001b[0m: name 'top_model_weights_path' is not defined"
     ]
    }
   ],
   "source": [
    "top_model_weights_path"
   ]
  },
  {
   "cell_type": "code",
   "execution_count": 41,
   "metadata": {},
   "outputs": [
    {
     "ename": "NameError",
     "evalue": "name 'predictions' is not defined",
     "output_type": "error",
     "traceback": [
      "\u001b[1;31m---------------------------------------------------------------------------\u001b[0m",
      "\u001b[1;31mNameError\u001b[0m                                 Traceback (most recent call last)",
      "\u001b[1;32m<ipython-input-41-4ba503436d12>\u001b[0m in \u001b[0;36m<module>\u001b[1;34m\u001b[0m\n\u001b[1;32m----> 1\u001b[1;33m \u001b[0mpredictions\u001b[0m\u001b[1;33m[\u001b[0m\u001b[1;36m0\u001b[0m\u001b[1;33m]\u001b[0m\u001b[1;33m\u001b[0m\u001b[1;33m\u001b[0m\u001b[0m\n\u001b[0m",
      "\u001b[1;31mNameError\u001b[0m: name 'predictions' is not defined"
     ]
    }
   ],
   "source": [
    "predictions[0]"
   ]
  },
  {
   "cell_type": "code",
   "execution_count": 42,
   "metadata": {},
   "outputs": [
    {
     "ename": "SyntaxError",
     "evalue": "can't use starred expression here (<ipython-input-42-08829e1072ff>, line 4)",
     "output_type": "error",
     "traceback": [
      "\u001b[1;36m  File \u001b[1;32m\"<ipython-input-42-08829e1072ff>\"\u001b[1;36m, line \u001b[1;32m4\u001b[0m\n\u001b[1;31mSyntaxError\u001b[0m\u001b[1;31m:\u001b[0m can't use starred expression here\n"
     ]
    }
   ],
   "source": [
    "*predictions\n"
   ]
  },
  {
   "cell_type": "code",
   "execution_count": 43,
   "metadata": {},
   "outputs": [
    {
     "ename": "NameError",
     "evalue": "name 'pridictions' is not defined",
     "output_type": "error",
     "traceback": [
      "\u001b[1;31m---------------------------------------------------------------------------\u001b[0m",
      "\u001b[1;31mNameError\u001b[0m                                 Traceback (most recent call last)",
      "\u001b[1;32m<ipython-input-43-50f45a996bf7>\u001b[0m in \u001b[0;36m<module>\u001b[1;34m\u001b[0m\n\u001b[1;32m----> 1\u001b[1;33m \u001b[0mprint\u001b[0m\u001b[1;33m(\u001b[0m\u001b[0mpridictions\u001b[0m\u001b[1;33m)\u001b[0m\u001b[1;33m\u001b[0m\u001b[1;33m\u001b[0m\u001b[0m\n\u001b[0m",
      "\u001b[1;31mNameError\u001b[0m: name 'pridictions' is not defined"
     ]
    }
   ],
   "source": [
    "print(pridictions)"
   ]
  },
  {
   "cell_type": "code",
   "execution_count": 44,
   "metadata": {},
   "outputs": [
    {
     "data": {
      "text/plain": [
       "<keras.engine.sequential.Sequential at 0x28624a58708>"
      ]
     },
     "execution_count": 44,
     "metadata": {},
     "output_type": "execute_result"
    }
   ],
   "source": [
    "classifier"
   ]
  },
  {
   "cell_type": "code",
   "execution_count": 45,
   "metadata": {},
   "outputs": [],
   "source": [
    "classifier.save(\"our.model\")"
   ]
  },
  {
   "cell_type": "code",
   "execution_count": 46,
   "metadata": {},
   "outputs": [],
   "source": [
    "import tensorflow"
   ]
  },
  {
   "cell_type": "code",
   "execution_count": 48,
   "metadata": {},
   "outputs": [],
   "source": [
    "model=tensorflow.keras.models.load_model(\"our.model\")"
   ]
  },
  {
   "cell_type": "code",
   "execution_count": null,
   "metadata": {},
   "outputs": [],
   "source": [
    "prediction=model.predict()"
   ]
  }
 ],
 "metadata": {
  "kernelspec": {
   "display_name": "Python 3",
   "language": "python",
   "name": "python3"
  },
  "language_info": {
   "codemirror_mode": {
    "name": "ipython",
    "version": 3
   },
   "file_extension": ".py",
   "mimetype": "text/x-python",
   "name": "python",
   "nbconvert_exporter": "python",
   "pygments_lexer": "ipython3",
   "version": "3.7.6"
  }
 },
 "nbformat": 4,
 "nbformat_minor": 2
}
